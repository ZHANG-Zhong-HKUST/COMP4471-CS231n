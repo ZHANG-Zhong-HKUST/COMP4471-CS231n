{
 "cells": [
  {
   "cell_type": "markdown",
   "source": [
    "# Softmax exercise\n",
    "\n",
    "*Complete and hand in this completed worksheet (including its outputs and any supporting code outside of the worksheet) with your assignment submission. For more details see the [assignments page](https://course.cse.ust.hk/comp4901j/Password_Only/programs/assignment1/index.html) on the course website.*\n",
    "\n",
    "This exercise is analogous to the SVM exercise. You will:\n",
    "\n",
    "- implement a fully-vectorized **loss function** for the Softmax classifier\n",
    "- implement the fully-vectorized expression for its **analytic gradient**\n",
    "- **check your implementation** with numerical gradient\n",
    "- use a validation set to **tune the learning rate and regularization** strength\n",
    "- **optimize** the loss function with **SGD**\n",
    "- **visualize** the final learned weights\n"
   ],
   "metadata": {}
  },
  {
   "cell_type": "code",
   "execution_count": 1,
   "source": [
    "import random\r\n",
    "import numpy as np\r\n",
    "from cs231n.data_utils import load_CIFAR10\r\n",
    "import matplotlib.pyplot as plt\r\n",
    "\r\n",
    "from __future__ import print_function\r\n",
    "\r\n",
    "%matplotlib inline\r\n",
    "plt.rcParams['figure.figsize'] = (10.0, 8.0) # set default size of plots\r\n",
    "plt.rcParams['image.interpolation'] = 'nearest'\r\n",
    "plt.rcParams['image.cmap'] = 'gray'\r\n",
    "\r\n",
    "# for auto-reloading extenrnal modules\r\n",
    "# see http://stackoverflow.com/questions/1907993/autoreload-of-modules-in-ipython\r\n",
    "%load_ext autoreload\r\n",
    "%autoreload 2"
   ],
   "outputs": [],
   "metadata": {}
  },
  {
   "cell_type": "code",
   "execution_count": 2,
   "source": [
    "def get_CIFAR10_data(num_training=49000, num_validation=1000, num_test=1000, num_dev=500):\r\n",
    "    \"\"\"\r\n",
    "    Load the CIFAR-10 dataset from disk and perform preprocessing to prepare\r\n",
    "    it for the linear classifier. These are the same steps as we used for the\r\n",
    "    SVM, but condensed to a single function.  \r\n",
    "    \"\"\"\r\n",
    "    # Load the raw CIFAR-10 data\r\n",
    "    cifar10_dir = 'cs231n/datasets/cifar-10-batches-py'\r\n",
    "    X_train, y_train, X_test, y_test = load_CIFAR10(cifar10_dir)\r\n",
    "    \r\n",
    "    # subsample the data\r\n",
    "    mask = list(range(num_training, num_training + num_validation))\r\n",
    "    X_val = X_train[mask]\r\n",
    "    y_val = y_train[mask]\r\n",
    "    mask = list(range(num_training))\r\n",
    "    X_train = X_train[mask]\r\n",
    "    y_train = y_train[mask]\r\n",
    "    mask = list(range(num_test))\r\n",
    "    X_test = X_test[mask]\r\n",
    "    y_test = y_test[mask]\r\n",
    "    mask = np.random.choice(num_training, num_dev, replace=False)\r\n",
    "    X_dev = X_train[mask]\r\n",
    "    y_dev = y_train[mask]\r\n",
    "    \r\n",
    "    # Preprocessing: reshape the image data into rows\r\n",
    "    X_train = np.reshape(X_train, (X_train.shape[0], -1))\r\n",
    "    X_val = np.reshape(X_val, (X_val.shape[0], -1))\r\n",
    "    X_test = np.reshape(X_test, (X_test.shape[0], -1))\r\n",
    "    X_dev = np.reshape(X_dev, (X_dev.shape[0], -1))\r\n",
    "    \r\n",
    "    # Normalize the data: subtract the mean image\r\n",
    "    mean_image = np.mean(X_train, axis = 0)\r\n",
    "    X_train -= mean_image\r\n",
    "    X_val -= mean_image\r\n",
    "    X_test -= mean_image\r\n",
    "    X_dev -= mean_image\r\n",
    "    \r\n",
    "    # add bias dimension and transform into columns\r\n",
    "    X_train = np.hstack([X_train, np.ones((X_train.shape[0], 1))])\r\n",
    "    X_val = np.hstack([X_val, np.ones((X_val.shape[0], 1))])\r\n",
    "    X_test = np.hstack([X_test, np.ones((X_test.shape[0], 1))])\r\n",
    "    X_dev = np.hstack([X_dev, np.ones((X_dev.shape[0], 1))])\r\n",
    "    \r\n",
    "    return X_train, y_train, X_val, y_val, X_test, y_test, X_dev, y_dev\r\n",
    "\r\n",
    "\r\n",
    "# Invoke the above function to get our data.\r\n",
    "X_train, y_train, X_val, y_val, X_test, y_test, X_dev, y_dev = get_CIFAR10_data()\r\n",
    "print('Train data shape: ', X_train.shape)\r\n",
    "print('Train labels shape: ', y_train.shape)\r\n",
    "print('Validation data shape: ', X_val.shape)\r\n",
    "print('Validation labels shape: ', y_val.shape)\r\n",
    "print('Test data shape: ', X_test.shape)\r\n",
    "print('Test labels shape: ', y_test.shape)\r\n",
    "print('dev data shape: ', X_dev.shape)\r\n",
    "print('dev labels shape: ', y_dev.shape)"
   ],
   "outputs": [
    {
     "output_type": "stream",
     "name": "stdout",
     "text": [
      "Train data shape:  (49000, 3073)\n",
      "Train labels shape:  (49000,)\n",
      "Validation data shape:  (1000, 3073)\n",
      "Validation labels shape:  (1000,)\n",
      "Test data shape:  (1000, 3073)\n",
      "Test labels shape:  (1000,)\n",
      "dev data shape:  (500, 3073)\n",
      "dev labels shape:  (500,)\n"
     ]
    }
   ],
   "metadata": {}
  },
  {
   "cell_type": "markdown",
   "source": [
    "## Softmax Classifier\n",
    "\n",
    "Your code for this section will all be written inside **cs231n/classifiers/softmax.py**. \n"
   ],
   "metadata": {}
  },
  {
   "cell_type": "code",
   "execution_count": 13,
   "source": [
    "# First implement the naive softmax loss function with nested loops.\r\n",
    "# Open the file cs231n/classifiers/softmax.py and implement the\r\n",
    "# softmax_loss_naive function.\r\n",
    "\r\n",
    "from cs231n.classifiers.softmax import softmax_loss_naive\r\n",
    "import time\r\n",
    "\r\n",
    "# Generate a random softmax weight matrix and use it to compute the loss.\r\n",
    "W = np.random.randn(3073, 10) * 0.0001\r\n",
    "loss, grad = softmax_loss_naive(W, X_dev, y_dev, 0.0)\r\n",
    "\r\n",
    "# As a rough sanity check, our loss should be something close to -log(0.1).\r\n",
    "print('loss: %f' % loss)\r\n",
    "print('sanity check: %f' % (-np.log(0.1)))"
   ],
   "outputs": [
    {
     "output_type": "stream",
     "name": "stdout",
     "text": [
      "loss: 2.325147\n",
      "sanity check: 2.302585\n"
     ]
    }
   ],
   "metadata": {}
  },
  {
   "cell_type": "markdown",
   "source": [
    "## Inline Question 1:\r\n",
    "Why do we expect our loss to be close to -log(0.1)? Explain briefly.**\r\n",
    "\r\n",
    "**Your answer:** We are using random weights, so scores for each categaries should be rouhgly the same, and thus the loss(possibility) is 0.1 nomatter what the label is. $loss \\approx \\frac{1}{n}\\sum_{i=1}^n -log(0.1) + reg*||W||^2$ and notice that $reg=0$, so loss should be close to $-log(0.1)$ \r\n"
   ],
   "metadata": {}
  },
  {
   "cell_type": "code",
   "execution_count": 15,
   "source": [
    "# Complete the implementation of softmax_loss_naive and implement a (naive)\r\n",
    "# version of the gradient that uses nested loops.\r\n",
    "loss, grad = softmax_loss_naive(W, X_dev, y_dev, 0.0)\r\n",
    "\r\n",
    "# As we did for the SVM, use numeric gradient checking as a debugging tool.\r\n",
    "# The numeric gradient should be close to the analytic gradient.\r\n",
    "from cs231n.gradient_check import grad_check_sparse\r\n",
    "f = lambda w: softmax_loss_naive(w, X_dev, y_dev, 0.0)[0]\r\n",
    "grad_numerical = grad_check_sparse(f, W, grad, 10)\r\n",
    "\r\n",
    "# similar to SVM case, do another gradient check with regularization\r\n",
    "loss, grad = softmax_loss_naive(W, X_dev, y_dev, 5e1)\r\n",
    "f = lambda w: softmax_loss_naive(w, X_dev, y_dev, 5e1)[0]\r\n",
    "grad_numerical = grad_check_sparse(f, W, grad, 10)"
   ],
   "outputs": [
    {
     "output_type": "stream",
     "name": "stdout",
     "text": [
      "numerical: 1.023588 analytic: 1.023588, relative error: 2.694416e-08\n",
      "numerical: -0.569772 analytic: -0.569772, relative error: 7.232150e-08\n",
      "numerical: -0.655614 analytic: -0.655614, relative error: 1.339374e-08\n",
      "numerical: -1.401932 analytic: -1.401932, relative error: 3.404961e-08\n",
      "numerical: -0.704821 analytic: -0.704822, relative error: 2.123943e-08\n",
      "numerical: 0.019256 analytic: 0.019256, relative error: 1.048324e-06\n",
      "numerical: -0.955449 analytic: -0.955449, relative error: 5.247065e-08\n",
      "numerical: 0.213627 analytic: 0.213627, relative error: 1.645406e-07\n",
      "numerical: -1.398935 analytic: -1.398936, relative error: 2.639477e-08\n",
      "numerical: -0.771701 analytic: -0.771701, relative error: 4.566561e-08\n",
      "numerical: 2.591795 analytic: 2.591795, relative error: 6.481435e-09\n",
      "numerical: 1.775865 analytic: 1.775865, relative error: 1.017139e-08\n",
      "numerical: -1.587129 analytic: -1.587129, relative error: 4.219120e-08\n",
      "numerical: -2.998638 analytic: -2.998638, relative error: 9.156213e-10\n",
      "numerical: 0.234459 analytic: 0.234459, relative error: 1.282618e-08\n",
      "numerical: 0.011379 analytic: 0.011379, relative error: 5.263658e-08\n",
      "numerical: -0.616914 analytic: -0.616914, relative error: 5.452279e-08\n",
      "numerical: 0.739231 analytic: 0.739231, relative error: 5.715166e-08\n",
      "numerical: 0.159612 analytic: 0.159612, relative error: 1.771280e-07\n",
      "numerical: -6.924389 analytic: -6.924389, relative error: 5.426116e-09\n"
     ]
    }
   ],
   "metadata": {}
  },
  {
   "cell_type": "code",
   "execution_count": 24,
   "source": [
    "# Now that we have a naive implementation of the softmax loss function and its gradient,\r\n",
    "# implement a vectorized version in softmax_loss_vectorized.\r\n",
    "# The two versions should compute the same results, but the vectorized version should be\r\n",
    "# much faster.\r\n",
    "tic = time.time()\r\n",
    "loss_naive, grad_naive = softmax_loss_naive(W, X_dev, y_dev, 0.000005)\r\n",
    "toc = time.time()\r\n",
    "print('naive loss: %e computed in %fs' % (loss_naive, toc - tic))\r\n",
    "\r\n",
    "from cs231n.classifiers.softmax import softmax_loss_vectorized\r\n",
    "tic = time.time()\r\n",
    "loss_vectorized, grad_vectorized = softmax_loss_vectorized(W, X_dev, y_dev, 0.000005)\r\n",
    "toc = time.time()\r\n",
    "print('vectorized loss: %e computed in %fs' % (loss_vectorized, toc - tic))\r\n",
    "\r\n",
    "# As we did for the SVM, we use the Frobenius norm to compare the two versions\r\n",
    "# of the gradient.\r\n",
    "grad_difference = np.linalg.norm(grad_naive - grad_vectorized, ord='fro')\r\n",
    "print('Loss difference: %f' % np.abs(loss_naive - loss_vectorized))\r\n",
    "print('Gradient difference: %f' % grad_difference)"
   ],
   "outputs": [
    {
     "output_type": "stream",
     "name": "stdout",
     "text": [
      "naive loss: 2.325147e+00 computed in 0.253546s\n",
      "vectorized loss: 2.325147e+00 computed in 0.006002s\n",
      "Loss difference: 0.000000\n",
      "Gradient difference: 0.000000\n"
     ]
    }
   ],
   "metadata": {}
  },
  {
   "cell_type": "code",
   "execution_count": 26,
   "source": [
    "# Use the validation set to tune hyperparameters (regularization strength and\r\n",
    "# learning rate). You should experiment with different ranges for the learning\r\n",
    "# rates and regularization strengths; if you are careful you should be able to\r\n",
    "# get a classification accuracy of over 0.35 on the validation set.\r\n",
    "from cs231n.classifiers import Softmax\r\n",
    "results = {}\r\n",
    "best_val = -1\r\n",
    "best_softmax = None\r\n",
    "learning_rates = [1e-7, 5e-7, 1e-6]\r\n",
    "regularization_strengths = [2e4, 2.5e4, 3e4, 4e4, 5e4]\r\n",
    "\r\n",
    "################################################################################\r\n",
    "# TODO:                                                                        #\r\n",
    "# Use the validation set to set the learning rate and regularization strength. #\r\n",
    "# This should be identical to the validation that you did for the SVM; save    #\r\n",
    "# the best trained softmax classifer in best_softmax.                          #\r\n",
    "################################################################################\r\n",
    "for lr in learning_rates:\r\n",
    "    for reg in regularization_strengths:\r\n",
    "        softmax = Softmax()\r\n",
    "        softmax.train(X_train, y_train, learning_rate=lr, reg=reg, num_iters=600, verbose=False)\r\n",
    "        y_train_pred = softmax.predict(X_train)\r\n",
    "        y_val_pred = softmax.predict(X_val)\r\n",
    "        results[(lr, reg)] = (np.mean(y_train == y_train_pred), np.mean(y_val == y_val_pred))\r\n",
    "\r\n",
    "        if(results[(lr, reg)][1]>best_val):\r\n",
    "            best_val = results[(lr, reg)][1]\r\n",
    "            best_softmax = softmax\r\n",
    "################################################################################\r\n",
    "#                              END OF YOUR CODE                                #\r\n",
    "################################################################################\r\n",
    "    \r\n",
    "# Print out results.\r\n",
    "for lr, reg in sorted(results):\r\n",
    "    train_accuracy, val_accuracy = results[(lr, reg)]\r\n",
    "    print('lr %e reg %e train accuracy: %f val accuracy: %f' % (\r\n",
    "                lr, reg, train_accuracy, val_accuracy))\r\n",
    "    \r\n",
    "print('best validation accuracy achieved during cross-validation: %f' % best_val)"
   ],
   "outputs": [
    {
     "output_type": "stream",
     "name": "stdout",
     "text": [
      "lr 1.000000e-07 reg 2.000000e+04 train accuracy: 0.319490 val accuracy: 0.325000\n",
      "lr 1.000000e-07 reg 2.500000e+04 train accuracy: 0.321184 val accuracy: 0.331000\n",
      "lr 1.000000e-07 reg 3.000000e+04 train accuracy: 0.321367 val accuracy: 0.343000\n",
      "lr 1.000000e-07 reg 4.000000e+04 train accuracy: 0.311082 val accuracy: 0.321000\n",
      "lr 1.000000e-07 reg 5.000000e+04 train accuracy: 0.309510 val accuracy: 0.328000\n",
      "lr 5.000000e-07 reg 2.000000e+04 train accuracy: 0.336245 val accuracy: 0.358000\n",
      "lr 5.000000e-07 reg 2.500000e+04 train accuracy: 0.320469 val accuracy: 0.335000\n",
      "lr 5.000000e-07 reg 3.000000e+04 train accuracy: 0.314735 val accuracy: 0.334000\n",
      "lr 5.000000e-07 reg 4.000000e+04 train accuracy: 0.309429 val accuracy: 0.319000\n",
      "lr 5.000000e-07 reg 5.000000e+04 train accuracy: 0.304163 val accuracy: 0.324000\n",
      "lr 1.000000e-06 reg 2.000000e+04 train accuracy: 0.317388 val accuracy: 0.330000\n",
      "lr 1.000000e-06 reg 2.500000e+04 train accuracy: 0.318204 val accuracy: 0.327000\n",
      "lr 1.000000e-06 reg 3.000000e+04 train accuracy: 0.311694 val accuracy: 0.330000\n",
      "lr 1.000000e-06 reg 4.000000e+04 train accuracy: 0.299490 val accuracy: 0.320000\n",
      "lr 1.000000e-06 reg 5.000000e+04 train accuracy: 0.302592 val accuracy: 0.309000\n",
      "best validation accuracy achieved during cross-validation: 0.358000\n"
     ]
    }
   ],
   "metadata": {}
  },
  {
   "cell_type": "code",
   "execution_count": 27,
   "source": [
    "# evaluate on test set\r\n",
    "# Evaluate the best softmax on test set\r\n",
    "y_test_pred = best_softmax.predict(X_test)\r\n",
    "test_accuracy = np.mean(y_test == y_test_pred)\r\n",
    "print('softmax on raw pixels final test set accuracy: %f' % (test_accuracy, ))"
   ],
   "outputs": [
    {
     "output_type": "stream",
     "name": "stdout",
     "text": [
      "softmax on raw pixels final test set accuracy: 0.347000\n"
     ]
    }
   ],
   "metadata": {}
  },
  {
   "cell_type": "code",
   "execution_count": 28,
   "source": [
    "# Visualize the learned weights for each class\r\n",
    "w = best_softmax.W[:-1,:] # strip out the bias\r\n",
    "w = w.reshape(32, 32, 3, 10)\r\n",
    "\r\n",
    "w_min, w_max = np.min(w), np.max(w)\r\n",
    "\r\n",
    "classes = ['plane', 'car', 'bird', 'cat', 'deer', 'dog', 'frog', 'horse', 'ship', 'truck']\r\n",
    "for i in range(10):\r\n",
    "    plt.subplot(2, 5, i + 1)\r\n",
    "    \r\n",
    "    # Rescale the weights to be between 0 and 255\r\n",
    "    wimg = 255.0 * (w[:, :, :, i].squeeze() - w_min) / (w_max - w_min)\r\n",
    "    plt.imshow(wimg.astype('uint8'))\r\n",
    "    plt.axis('off')\r\n",
    "    plt.title(classes[i])"
   ],
   "outputs": [
    {
     "output_type": "display_data",
     "data": {
      "image/png": "[encoded data removed]",
      "text/plain": [
       "<Figure size 720x576 with 10 Axes>"
      ]
     },
     "metadata": {
      "needs_background": "light"
     }
    }
   ],
   "metadata": {}
  }
 ],
 "metadata": {
  "kernelspec": {
   "name": "python3",
   "display_name": "Python 3.9.6 64-bit"
  },
  "language_info": {
   "codemirror_mode": {
    "name": "ipython",
    "version": 3
   },
   "file_extension": ".py",
   "mimetype": "text/x-python",
   "name": "python",
   "nbconvert_exporter": "python",
   "pygments_lexer": "ipython3",
   "version": "3.9.6"
  },
  "interpreter": {
   "hash": "38740d3277777e2cd7c6c2cc9d8addf5118fdf3f82b1b39231fd12aeac8aee8b"
  }
 },
 "nbformat": 4,
 "nbformat_minor": 1
}