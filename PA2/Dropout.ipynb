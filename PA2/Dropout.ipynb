{
 "nbformat_minor": 2,
 "nbformat": 4,
 "cells": [
  {
   "cell_type": "markdown",
   "source": [
    "# Dropout\n",
    "Dropout [1] is a technique for regularizing neural networks by randomly setting some features to zero during the forward pass. In this exercise you will implement a dropout layer and modify your fully-connected network to optionally use dropout.\n",
    "\n",
    "[1] Geoffrey E. Hinton et al, \"Improving neural networks by preventing co-adaptation of feature detectors\", arXiv 2012"
   ],
   "metadata": {
    "editable": true,
    "deletable": true
   }
  },
  {
   "cell_type": "code",
   "execution_count": 28,
   "source": [
    "# As usual, a bit of setup\r\n",
    "from __future__ import print_function\r\n",
    "import time\r\n",
    "import numpy as np\r\n",
    "import matplotlib.pyplot as plt\r\n",
    "from cs231n.classifiers.fc_net import *\r\n",
    "from cs231n.data_utils import get_CIFAR10_data\r\n",
    "from cs231n.gradient_check import eval_numerical_gradient, eval_numerical_gradient_array\r\n",
    "from cs231n.solver import Solver\r\n",
    "\r\n",
    "%matplotlib inline\r\n",
    "plt.rcParams['figure.figsize'] = (10.0, 8.0) # set default size of plots\r\n",
    "plt.rcParams['image.interpolation'] = 'nearest'\r\n",
    "plt.rcParams['image.cmap'] = 'gray'\r\n",
    "\r\n",
    "# for auto-reloading external modules\r\n",
    "# see http://stackoverflow.com/questions/1907993/autoreload-of-modules-in-ipython\r\n",
    "%load_ext autoreload\r\n",
    "%autoreload 2\r\n",
    "\r\n",
    "def rel_error(x, y):\r\n",
    "  \"\"\" returns relative error \"\"\"\r\n",
    "  return np.max(np.abs(x - y) / (np.maximum(1e-8, np.abs(x) + np.abs(y))))"
   ],
   "outputs": [
    {
     "output_type": "stream",
     "name": "stdout",
     "text": [
      "The autoreload extension is already loaded. To reload it, use:\n",
      "  %reload_ext autoreload\n"
     ]
    }
   ],
   "metadata": {
    "collapsed": false,
    "editable": true,
    "deletable": true
   }
  },
  {
   "cell_type": "code",
   "execution_count": 29,
   "source": [
    "# Load the (preprocessed) CIFAR10 data.\r\n",
    "\r\n",
    "data = get_CIFAR10_data()\r\n",
    "for k, v in data.items():\r\n",
    "  print('%s: ' % k, v.shape)"
   ],
   "outputs": [
    {
     "output_type": "stream",
     "name": "stdout",
     "text": [
      "X_train:  (49000, 3, 32, 32)\n",
      "y_train:  (49000,)\n",
      "X_val:  (1000, 3, 32, 32)\n",
      "y_val:  (1000,)\n",
      "X_test:  (1000, 3, 32, 32)\n",
      "y_test:  (1000,)\n"
     ]
    }
   ],
   "metadata": {
    "collapsed": false,
    "editable": true,
    "deletable": true
   }
  },
  {
   "cell_type": "markdown",
   "source": [
    "# Dropout forward pass\n",
    "In the file `cs231n/layers.py`, implement the forward pass for dropout. Since dropout behaves differently during training and testing, make sure to implement the operation for both modes.\n",
    "\n",
    "Once you have done so, run the cell below to test your implementation."
   ],
   "metadata": {
    "editable": true,
    "deletable": true
   }
  },
  {
   "cell_type": "code",
   "execution_count": 30,
   "source": [
    "np.random.seed(231)\r\n",
    "x = np.random.randn(500, 500) + 10\r\n",
    "\r\n",
    "for p in [0.3, 0.6, 0.75]:\r\n",
    "  out, _ = dropout_forward(x, {'mode': 'train', 'p': p})\r\n",
    "  out_test, _ = dropout_forward(x, {'mode': 'test', 'p': p})\r\n",
    "\r\n",
    "  print('Running tests with p = ', p)\r\n",
    "  print('Mean of input: ', x.mean())\r\n",
    "  print('Mean of train-time output: ', out.mean())\r\n",
    "  print('Mean of test-time output: ', out_test.mean())\r\n",
    "  print('Fraction of train-time output set to zero: ', (out == 0).mean())\r\n",
    "  print('Fraction of test-time output set to zero: ', (out_test == 0).mean())\r\n",
    "  print()"
   ],
   "outputs": [
    {
     "output_type": "stream",
     "name": "stdout",
     "text": [
      "Running tests with p =  0.3\n",
      "Mean of input:  10.000207878477502\n",
      "Mean of train-time output:  23.29895346454117\n",
      "Mean of test-time output:  10.000207878477502\n",
      "Fraction of train-time output set to zero:  0.300876\n",
      "Fraction of test-time output set to zero:  0.0\n",
      "\n",
      "Running tests with p =  0.6\n",
      "Mean of input:  10.000207878477502\n",
      "Mean of train-time output:  6.690102372029978\n",
      "Mean of test-time output:  10.000207878477502\n",
      "Fraction of train-time output set to zero:  0.598632\n",
      "Fraction of test-time output set to zero:  0.0\n",
      "\n",
      "Running tests with p =  0.75\n",
      "Mean of input:  10.000207878477502\n",
      "Mean of train-time output:  3.3405419163755217\n",
      "Mean of test-time output:  10.000207878477502\n",
      "Fraction of train-time output set to zero:  0.749504\n",
      "Fraction of test-time output set to zero:  0.0\n",
      "\n"
     ]
    }
   ],
   "metadata": {
    "collapsed": false,
    "editable": true,
    "deletable": true
   }
  },
  {
   "cell_type": "markdown",
   "source": [
    "# Dropout backward pass\n",
    "In the file `cs231n/layers.py`, implement the backward pass for dropout. After doing so, run the following cell to numerically gradient-check your implementation."
   ],
   "metadata": {
    "editable": true,
    "deletable": true
   }
  },
  {
   "cell_type": "code",
   "execution_count": 31,
   "source": [
    "np.random.seed(231)\r\n",
    "x = np.random.randn(10, 10) + 10\r\n",
    "dout = np.random.randn(*x.shape)\r\n",
    "\r\n",
    "dropout_param = {'mode': 'train', 'p': 0.8, 'seed': 123}\r\n",
    "out, cache = dropout_forward(x, dropout_param)\r\n",
    "dx = dropout_backward(dout, cache)\r\n",
    "dx_num = eval_numerical_gradient_array(lambda xx: dropout_forward(xx, dropout_param)[0], x, dout)\r\n",
    "\r\n",
    "print('dx relative error: ', rel_error(dx, dx_num))"
   ],
   "outputs": [
    {
     "output_type": "stream",
     "name": "stdout",
     "text": [
      "dx relative error:  1.892894523661062e-11\n"
     ]
    }
   ],
   "metadata": {
    "collapsed": false,
    "editable": true,
    "deletable": true
   }
  },
  {
   "cell_type": "markdown",
   "source": [
    "# Fully-connected nets with Dropout\n",
    "In the file `cs231n/classifiers/fc_net.py`, modify your implementation to use dropout. Specificially, if the constructor the the net receives a nonzero value for the `dropout` parameter, then the net should add dropout immediately after every ReLU nonlinearity. After doing so, run the following to numerically gradient-check your implementation."
   ],
   "metadata": {
    "editable": true,
    "deletable": true
   }
  },
  {
   "cell_type": "code",
   "execution_count": 32,
   "source": [
    "np.random.seed(231)\r\n",
    "N, D, H1, H2, C = 2, 15, 20, 30, 10\r\n",
    "X = np.random.randn(N, D)\r\n",
    "y = np.random.randint(C, size=(N,))\r\n",
    "\r\n",
    "for dropout in [0, 0.25, 0.5]:\r\n",
    "  print('Running check with dropout = ', dropout)\r\n",
    "  model = FullyConnectedNet([H1, H2], input_dim=D, num_classes=C,\r\n",
    "                            weight_scale=5e-2, dtype=np.float64,\r\n",
    "                            dropout=dropout, seed=123)\r\n",
    "\r\n",
    "  loss, grads = model.loss(X, y)\r\n",
    "  print('Initial loss: ', loss)\r\n",
    "\r\n",
    "  for name in sorted(grads):\r\n",
    "    f = lambda _: model.loss(X, y)[0]\r\n",
    "    grad_num = eval_numerical_gradient(f, model.params[name], verbose=False, h=1e-5)\r\n",
    "    print('%s relative error: %.2e' % (name, rel_error(grad_num, grads[name])))\r\n",
    "  print()"
   ],
   "outputs": [
    {
     "output_type": "stream",
     "name": "stdout",
     "text": [
      "Running check with dropout =  0\n",
      "Initial loss:  2.3004790897684924\n",
      "b1 relative error: 5.38e-09\n",
      "b2 relative error: 2.09e-09\n",
      "b3 relative error: 5.80e-11\n",
      "w1 relative error: 1.48e-07\n",
      "w2 relative error: 2.21e-05\n",
      "w3 relative error: 3.53e-07\n",
      "\n",
      "Running check with dropout =  0.25\n",
      "Initial loss:  2.3245009609250094\n",
      "b1 relative error: 2.45e-10\n",
      "b2 relative error: 4.41e-10\n",
      "b3 relative error: 1.31e-10\n",
      "w1 relative error: 1.94e-08\n",
      "w2 relative error: 1.17e-07\n",
      "w3 relative error: 5.86e-08\n",
      "\n",
      "Running check with dropout =  0.5\n",
      "Initial loss:  2.310136908722148\n",
      "b1 relative error: 1.35e-09\n",
      "b2 relative error: 1.91e-09\n",
      "b3 relative error: 9.51e-11\n",
      "w1 relative error: 2.57e-08\n",
      "w2 relative error: 1.49e-08\n",
      "w3 relative error: 4.49e-08\n",
      "\n"
     ]
    }
   ],
   "metadata": {
    "collapsed": false,
    "editable": true,
    "deletable": true
   }
  },
  {
   "cell_type": "markdown",
   "source": [
    "# Regularization experiment\n",
    "As an experiment, we will train a pair of two-layer networks on 500 training examples: one will use no dropout, and one will use a dropout probability of 0.75. We will then visualize the training and validation accuracies of the two networks over time."
   ],
   "metadata": {
    "editable": true,
    "deletable": true
   }
  },
  {
   "cell_type": "code",
   "execution_count": 33,
   "source": [
    "# Train two identical nets, one with dropout and one without\r\n",
    "np.random.seed(231)\r\n",
    "num_train = 500\r\n",
    "small_data = {\r\n",
    "  'X_train': data['X_train'][:num_train],\r\n",
    "  'y_train': data['y_train'][:num_train],\r\n",
    "  'X_val': data['X_val'],\r\n",
    "  'y_val': data['y_val'],\r\n",
    "}\r\n",
    "\r\n",
    "solvers = {}\r\n",
    "dropout_choices = [0, 0.75]\r\n",
    "for dropout in dropout_choices:\r\n",
    "  model = FullyConnectedNet([500], dropout=dropout)\r\n",
    "  print(dropout)\r\n",
    "\r\n",
    "  solver = Solver(model, small_data,\r\n",
    "                  num_epochs=25, batch_size=100,\r\n",
    "                  update_rule='adam',\r\n",
    "                  optim_config={\r\n",
    "                    'learning_rate': 5e-4,\r\n",
    "                  },\r\n",
    "                  verbose=True, print_every=100)\r\n",
    "  solver.train()\r\n",
    "  solvers[dropout] = solver"
   ],
   "outputs": [
    {
     "output_type": "stream",
     "name": "stdout",
     "text": [
      "0\n",
      "(Iteration 1 / 125) loss: 7.856643\n",
      "(Epoch 0 / 25) train acc: 0.274000; val_acc: 0.192000\n",
      "(Epoch 1 / 25) train acc: 0.410000; val_acc: 0.263000\n",
      "(Epoch 2 / 25) train acc: 0.518000; val_acc: 0.269000\n",
      "(Epoch 3 / 25) train acc: 0.550000; val_acc: 0.248000\n",
      "(Epoch 4 / 25) train acc: 0.684000; val_acc: 0.297000\n",
      "(Epoch 5 / 25) train acc: 0.758000; val_acc: 0.292000\n",
      "(Epoch 6 / 25) train acc: 0.782000; val_acc: 0.266000\n",
      "(Epoch 7 / 25) train acc: 0.860000; val_acc: 0.240000\n",
      "(Epoch 8 / 25) train acc: 0.866000; val_acc: 0.283000\n",
      "(Epoch 9 / 25) train acc: 0.896000; val_acc: 0.277000\n",
      "(Epoch 10 / 25) train acc: 0.910000; val_acc: 0.273000\n",
      "(Epoch 11 / 25) train acc: 0.946000; val_acc: 0.291000\n",
      "(Epoch 12 / 25) train acc: 0.952000; val_acc: 0.288000\n",
      "(Epoch 13 / 25) train acc: 0.944000; val_acc: 0.277000\n",
      "(Epoch 14 / 25) train acc: 0.948000; val_acc: 0.261000\n",
      "(Epoch 15 / 25) train acc: 0.958000; val_acc: 0.282000\n",
      "(Epoch 16 / 25) train acc: 0.948000; val_acc: 0.281000\n",
      "(Epoch 17 / 25) train acc: 0.978000; val_acc: 0.298000\n",
      "(Epoch 18 / 25) train acc: 0.960000; val_acc: 0.295000\n",
      "(Epoch 19 / 25) train acc: 0.974000; val_acc: 0.293000\n",
      "(Epoch 20 / 25) train acc: 0.978000; val_acc: 0.299000\n",
      "(Iteration 101 / 125) loss: 0.017739\n",
      "(Epoch 21 / 25) train acc: 0.976000; val_acc: 0.312000\n",
      "(Epoch 22 / 25) train acc: 0.990000; val_acc: 0.304000\n",
      "(Epoch 23 / 25) train acc: 0.984000; val_acc: 0.289000\n",
      "(Epoch 24 / 25) train acc: 0.986000; val_acc: 0.295000\n",
      "(Epoch 25 / 25) train acc: 0.994000; val_acc: 0.304000\n",
      "0.75\n",
      "(Iteration 1 / 125) loss: 6.784461\n",
      "(Epoch 0 / 25) train acc: 0.260000; val_acc: 0.191000\n",
      "(Epoch 1 / 25) train acc: 0.422000; val_acc: 0.255000\n",
      "(Epoch 2 / 25) train acc: 0.462000; val_acc: 0.288000\n",
      "(Epoch 3 / 25) train acc: 0.524000; val_acc: 0.273000\n",
      "(Epoch 4 / 25) train acc: 0.538000; val_acc: 0.298000\n",
      "(Epoch 5 / 25) train acc: 0.672000; val_acc: 0.291000\n",
      "(Epoch 6 / 25) train acc: 0.648000; val_acc: 0.294000\n",
      "(Epoch 7 / 25) train acc: 0.680000; val_acc: 0.298000\n",
      "(Epoch 8 / 25) train acc: 0.742000; val_acc: 0.291000\n",
      "(Epoch 9 / 25) train acc: 0.762000; val_acc: 0.308000\n",
      "(Epoch 10 / 25) train acc: 0.770000; val_acc: 0.298000\n",
      "(Epoch 11 / 25) train acc: 0.776000; val_acc: 0.299000\n",
      "(Epoch 12 / 25) train acc: 0.802000; val_acc: 0.302000\n",
      "(Epoch 13 / 25) train acc: 0.822000; val_acc: 0.315000\n",
      "(Epoch 14 / 25) train acc: 0.816000; val_acc: 0.301000\n",
      "(Epoch 15 / 25) train acc: 0.854000; val_acc: 0.313000\n",
      "(Epoch 16 / 25) train acc: 0.868000; val_acc: 0.314000\n",
      "(Epoch 17 / 25) train acc: 0.852000; val_acc: 0.319000\n",
      "(Epoch 18 / 25) train acc: 0.870000; val_acc: 0.324000\n",
      "(Epoch 19 / 25) train acc: 0.872000; val_acc: 0.325000\n",
      "(Epoch 20 / 25) train acc: 0.898000; val_acc: 0.294000\n",
      "(Iteration 101 / 125) loss: 0.925772\n",
      "(Epoch 21 / 25) train acc: 0.904000; val_acc: 0.301000\n",
      "(Epoch 22 / 25) train acc: 0.894000; val_acc: 0.326000\n",
      "(Epoch 23 / 25) train acc: 0.908000; val_acc: 0.328000\n",
      "(Epoch 24 / 25) train acc: 0.888000; val_acc: 0.286000\n",
      "(Epoch 25 / 25) train acc: 0.912000; val_acc: 0.307000\n"
     ]
    }
   ],
   "metadata": {
    "scrolled": false,
    "collapsed": false,
    "editable": true,
    "deletable": true
   }
  },
  {
   "cell_type": "code",
   "execution_count": 34,
   "source": [
    "# Plot train and validation accuracies of the two models\r\n",
    "\r\n",
    "train_accs = []\r\n",
    "val_accs = []\r\n",
    "for dropout in dropout_choices:\r\n",
    "  solver = solvers[dropout]\r\n",
    "  train_accs.append(solver.train_acc_history[-1])\r\n",
    "  val_accs.append(solver.val_acc_history[-1])\r\n",
    "\r\n",
    "plt.subplot(3, 1, 1)\r\n",
    "for dropout in dropout_choices:\r\n",
    "  plt.plot(solvers[dropout].train_acc_history, 'o', label='%.2f dropout' % dropout)\r\n",
    "plt.title('Train accuracy')\r\n",
    "plt.xlabel('Epoch')\r\n",
    "plt.ylabel('Accuracy')\r\n",
    "plt.legend(ncol=2, loc='lower right')\r\n",
    "  \r\n",
    "plt.subplot(3, 1, 2)\r\n",
    "for dropout in dropout_choices:\r\n",
    "  plt.plot(solvers[dropout].val_acc_history, 'o', label='%.2f dropout' % dropout)\r\n",
    "plt.title('Val accuracy')\r\n",
    "plt.xlabel('Epoch')\r\n",
    "plt.ylabel('Accuracy')\r\n",
    "plt.legend(ncol=2, loc='lower right')\r\n",
    "\r\n",
    "plt.gcf().set_size_inches(15, 15)\r\n",
    "plt.show()"
   ],
   "outputs": [
    {
     "output_type": "display_data",
     "data": {
      "image/png": "[encoded data removed]",
      "text/plain": [
       "<Figure size 1080x1080 with 2 Axes>"
      ]
     },
     "metadata": {
      "needs_background": "light"
     }
    }
   ],
   "metadata": {
    "collapsed": false,
    "editable": true,
    "deletable": true
   }
  },
  {
   "cell_type": "markdown",
   "source": [
    "# Question\n",
    "Explain what you see in this experiment. What does it suggest about dropout?"
   ],
   "metadata": {
    "editable": true,
    "deletable": true
   }
  },
  {
   "cell_type": "markdown",
   "source": [
    "# Answer\r\n",
    "\r\n",
    "When using dropout, it overfit less to the training set and obtain a higher val accuracy. It suggest that dropout is a efficent tool to control overfit and could make big net work better, just as it theoretically should be. When overfit happens, we should consider using more intense dropout layer."
   ],
   "metadata": {
    "editable": true,
    "deletable": true
   }
  }
 ],
 "metadata": {
  "kernelspec": {
   "name": "python3",
   "display_name": "Python 3.9.6 64-bit"
  },
  "language_info": {
   "name": "python",
   "version": "3.9.6",
   "mimetype": "text/x-python",
   "codemirror_mode": {
    "name": "ipython",
    "version": 3
   },
   "pygments_lexer": "ipython3",
   "nbconvert_exporter": "python",
   "file_extension": ".py"
  },
  "interpreter": {
   "hash": "38740d3277777e2cd7c6c2cc9d8addf5118fdf3f82b1b39231fd12aeac8aee8b"
  }
 }
}